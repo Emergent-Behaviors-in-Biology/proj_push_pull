{
 "cells": [
  {
   "cell_type": "code",
   "execution_count": 2,
   "metadata": {},
   "outputs": [
    {
     "name": "stdout",
     "output_type": "stream",
     "text": [
      "The autoreload extension is already loaded. To reload it, use:\n",
      "  %reload_ext autoreload\n"
     ]
    }
   ],
   "source": [
    "%load_ext autoreload\n",
    "%autoreload 2\n",
    "\n",
    "from IPython.display import display\n",
    "\n",
    "\n",
    "import numpy as np\n",
    "import scipy as sp\n",
    "import pandas as pd\n",
    "import numpy.random as rand\n",
    "import numpy.linalg as la\n",
    "import scipy.optimize as opt\n",
    "\n",
    "import matplotlib.pyplot as plt\n",
    "import seaborn as sns\n"
   ]
  },
  {
   "cell_type": "code",
   "execution_count": 23,
   "metadata": {},
   "outputs": [],
   "source": [
    "\n",
    "def one_way_push(x, args):\n",
    "    (WT, ST, vWS, vWSp, vSu) = args\n",
    "    \n",
    "    (W, Su, Sp, WSu, WSp, SuT, SpT) = x\n",
    "        \n",
    "    res = np.zeros_like(x)\n",
    "    \n",
    "    \n",
    "    pWSp = vWS*W / (1 + vWS*W)\n",
    "    \n",
    "    res[0] = SpT/ST - (1+vWSp*pWSp)/ (1+vWSp*pWSp + vSu)\n",
    "    res[1] = W/WT - 1/(1+vWS*(Su+Sp))\n",
    "    res[2] = Su/SuT - 1/(1+vWS*W)\n",
    "    res[3] = Sp/SpT - 1/(1+vWS*W)\n",
    "    res[4] = ST - SuT - SpT\n",
    "    res[5] = SuT - Su - WSu\n",
    "    res[6] = SpT - Sp - WSp\n",
    "            \n",
    "    return res\n",
    "\n",
    "\n"
   ]
  },
  {
   "cell_type": "code",
   "execution_count": 29,
   "metadata": {},
   "outputs": [
    {
     "name": "stdout",
     "output_type": "stream",
     "text": [
      "    fjac: array([[-4.45665199e-02,  8.68797598e-01,  3.48071995e-01,\n",
      "         3.49357189e-01, -5.77535313e-11, -5.95331004e-18,\n",
      "        -5.58908145e-12],\n",
      "       [ 8.87131805e-03, -4.80118301e-02,  1.86092725e-01,\n",
      "        -6.48784119e-02,  3.12959252e-10, -9.79171310e-01,\n",
      "         3.36087406e-11],\n",
      "       [ 8.01120384e-03, -3.12653588e-02, -5.78436213e-02,\n",
      "         1.36404935e-01,  4.85329380e-10, -1.84256172e-02,\n",
      "        -9.88264440e-01],\n",
      "       [ 4.61623159e-02, -2.26493361e-01,  8.91733397e-01,\n",
      "        -3.19309991e-01,  2.44532904e-09,  2.02155948e-01,\n",
      "        -9.24956723e-02],\n",
      "       [ 1.37527291e-01, -4.22695872e-01,  2.06301712e-01,\n",
      "         8.63180813e-01,  1.47695365e-08,  3.98694076e-03,\n",
      "         1.21478539e-01],\n",
      "       [ 1.72256948e-03,  1.90414518e-04, -9.73569288e-05,\n",
      "        -1.56789633e-04, -9.99998481e-01, -1.84457445e-06,\n",
      "        -7.96894338e-06],\n",
      "       [ 9.88343697e-01,  1.09256563e-01, -5.58627125e-02,\n",
      "        -8.99668171e-02,  1.74288025e-03, -1.05848321e-03,\n",
      "        -4.57290145e-03]])\n",
      "     fun: array([ 8.58646487e-13, -4.95992136e-13, -5.66552361e-12, -6.17284002e-12,\n",
      "        0.00000000e+00,  0.00000000e+00,  0.00000000e+00])\n",
      " message: 'The solution converged.'\n",
      "    nfev: 18\n",
      "     qtf: array([-3.16844706e-10, -4.79353834e-11, -3.43555042e-11, -2.25863999e-10,\n",
      "       -4.46900315e-10,  2.10620627e-13,  1.21359830e-10])\n",
      "       r: array([ 0.11536994,  0.16509356,  0.14233445,  0.0138917 ,  0.0396638 ,\n",
      "       -0.02832838, -0.02424065,  1.02127175, -0.01904102,  0.97856477,\n",
      "       -0.00278473, -0.99031742,  0.00404281,  1.01187492,  0.01919686,\n",
      "        0.99436532, -0.01417989, -0.99684925, -0.2051077 ,  0.07877019,\n",
      "        0.1486894 , -0.07214774, -0.08246899, -0.00207763,  0.07112489,\n",
      "        1.00000152,  1.00017539,  0.09976041])\n",
      "  status: 1\n",
      " success: True\n",
      "       x: array([2.70156212, 0.98963982, 1.7119223 , 2.67357345, 4.62486443,\n",
      "       3.66321327, 6.33678673])\n",
      "2.701562118799312 0.9896398212731455 1.7119222973229136 2.6735734524836743 4.624864428920267 3.6632132737568197 6.33678672624318\n",
      "10 10.0\n"
     ]
    }
   ],
   "source": [
    "result = opt.root(one_way_push, [4.0, 1.0, 1.0, 3.0, 3.0, 4.0, 4.0], args=((10.0, 10.0, 1.0, 1.0, 1.0),))\n",
    "\n",
    "print(result)\n",
    "\n",
    "(W, Su, Sp, WSu, WSp, SuT, SpT) = result.x\n",
    "\n",
    "print(W, Su, Sp, WSu, WSp, SuT, SpT)\n",
    "\n",
    "print(10, SuT+SpT)"
   ]
  },
  {
   "cell_type": "code",
   "execution_count": null,
   "metadata": {},
   "outputs": [],
   "source": []
  }
 ],
 "metadata": {
  "kernelspec": {
   "display_name": "base",
   "language": "python",
   "name": "base"
  },
  "language_info": {
   "codemirror_mode": {
    "name": "ipython",
    "version": 3
   },
   "file_extension": ".py",
   "mimetype": "text/x-python",
   "name": "python",
   "nbconvert_exporter": "python",
   "pygments_lexer": "ipython3",
   "version": "3.7.6"
  }
 },
 "nbformat": 4,
 "nbformat_minor": 4
}
